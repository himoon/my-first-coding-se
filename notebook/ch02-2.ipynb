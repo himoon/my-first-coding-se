{
 "cells": [
  {
   "cell_type": "markdown",
   "metadata": {},
   "source": [
    "# 혼자 공부하는 첫 프로그래밍 with 파이썬(개정판) 예제코드 - Chapter 02-2 문자 데이터 처리"
   ]
  },
  {
   "cell_type": "markdown",
   "metadata": {},
   "source": [
    "### str02.py"
   ]
  },
  {
   "cell_type": "code",
   "execution_count": null,
   "metadata": {},
   "outputs": [],
   "source": [
    "print(\"대한민국을\" + \" \" + \"빛낼\" + \" \" + \"프로그래밍\" + \" \" + \"입문서!\")\n",
    "print(\"혼자\" + \" \" + \"공부하는\" + \" \" + \"첫\" + \" \" + \"프로그래밍!\")\n",
    "print(\"혼공\" + \"족\")\n",
    "print(\"혼공\" + \"프로\")\n",
    "print(\"혼공\" + \"파\")"
   ]
  },
  {
   "cell_type": "markdown",
   "metadata": {},
   "source": [
    "### str03.py"
   ]
  },
  {
   "cell_type": "code",
   "execution_count": null,
   "metadata": {},
   "outputs": [],
   "source": [
    "print(\"*\" * 2)\n",
    "print(\" \" * 2 + \"*\")\n",
    "print(\" \" * 3 + 1 * \"*\")\n",
    "print(\" \" * 4 + 1 * \"*\")\n",
    "print(\" \" * 5 + 2 * \"*\")"
   ]
  },
  {
   "cell_type": "markdown",
   "metadata": {},
   "source": [
    "### len01.py"
   ]
  },
  {
   "cell_type": "code",
   "execution_count": null,
   "metadata": {},
   "outputs": [],
   "source": [
    "print(len(\"AAA\"))\n",
    "print(len(\"Hello, World\"))\n",
    "print(len(\"77791022723607\"))\n",
    "print(len(\"파이썬, 안녕?\"))\n",
    "print(len(\"\\\"아!\\\"\"))"
   ]
  },
  {
   "cell_type": "markdown",
   "metadata": {},
   "source": [
    "### sli01.py"
   ]
  },
  {
   "cell_type": "code",
   "execution_count": null,
   "metadata": {},
   "outputs": [],
   "source": [
    "print(\"KE901\"[0:2])\n",
    "print(\"KE901\"[2:5])\n",
    "print(\"KE901\"[2:100])\n",
    "print(\"KE901\"[2:])\n",
    "print(\"KE901\"[:2])\n",
    "print(\"KE901\"[:])"
   ]
  },
  {
   "cell_type": "markdown",
   "metadata": {},
   "source": [
    "### ind01.py"
   ]
  },
  {
   "cell_type": "code",
   "execution_count": null,
   "metadata": {},
   "outputs": [],
   "source": [
    "print(\"KE901\"[0])\n",
    "print(\"KE901\"[1])\n",
    "print(\"KE901\"[2])\n",
    "print(\"KE901\"[3])\n",
    "print(\"KE901\"[4])"
   ]
  },
  {
   "cell_type": "markdown",
   "metadata": {},
   "source": [
    "### 레벨업 /levelup/levup_02_02_01.py"
   ]
  },
  {
   "cell_type": "code",
   "execution_count": null,
   "metadata": {},
   "outputs": [],
   "source": [
    "print(\"010-1234-5678\")\n",
    "print(\"010-1234-5678\"[:3])\n",
    "print(\"010-1234-5678\"[4:8])\n",
    "print(\"010-1234-5678\"[9:])\n",
    "print(\"010-1234-5678\"[:3] + \"010-1234-5678\"[4:8] + \"010-1234-5678\"[9:])"
   ]
  },
  {
   "cell_type": "markdown",
   "metadata": {},
   "source": [
    "### 레벨업 /levelup/levup_02_02_02.py"
   ]
  },
  {
   "cell_type": "code",
   "execution_count": null,
   "metadata": {},
   "outputs": [],
   "source": [
    "print(\"010-1234-5678\".replace(\"-\", \"\"))\n",
    "print(\"+8210-1234-5678\".replace(\"-\", \"\"))\n",
    "print(\"+82 10-1234-5678\".replace(\"-\", \"\").replace(\" \", \"\"))"
   ]
  },
  {
   "cell_type": "markdown",
   "metadata": {},
   "source": [
    "### 레벨업 /levelup/levup_02_02_03.py"
   ]
  },
  {
   "cell_type": "code",
   "execution_count": null,
   "metadata": {},
   "outputs": [],
   "source": [
    "print(\"   323   \")\n",
    "print(repr(\"   323   \"))\n",
    "print(repr(\"   323   \".replace(\" \", \"\")))"
   ]
  },
  {
   "cell_type": "markdown",
   "metadata": {},
   "source": [
    "### 레벨업 /levelup/levup_02_02_04.py"
   ]
  },
  {
   "cell_type": "code",
   "execution_count": null,
   "metadata": {},
   "outputs": [],
   "source": [
    "print(repr(\"   Sun is shining.   \".replace(\" \", \"\")))\n",
    "print(repr(\"   Sun is shining.   \".strip()))\n",
    "print(repr(\"   Sun is shining.   \".lstrip()))\n",
    "print(repr(\"   Sun is shining.   \".rstrip()))"
   ]
  },
  {
   "cell_type": "markdown",
   "metadata": {},
   "source": [
    "### 확인문제 2"
   ]
  },
  {
   "cell_type": "code",
   "execution_count": null,
   "metadata": {},
   "outputs": [],
   "source": [
    "print(\"3\" + \" + \" + \"2\" + \" = \" + \"5\")\n",
    "print(\"=\" * 10)\n",
    "print(\"5\" + \"분\" + \" \" + \"23\" + \"초\")"
   ]
  },
  {
   "cell_type": "markdown",
   "metadata": {},
   "source": [
    "### 확인문제 3"
   ]
  },
  {
   "cell_type": "code",
   "execution_count": null,
   "metadata": {},
   "outputs": [],
   "source": [
    "print(\"0123456789\"[3])\n",
    "print(\"0123456789\"[3:3])\n",
    "print(\"0123456789\"[2:3])"
   ]
  },
  {
   "cell_type": "markdown",
   "metadata": {},
   "source": [
    "### 확인문제 4"
   ]
  },
  {
   "cell_type": "code",
   "execution_count": null,
   "metadata": {},
   "outputs": [],
   "source": [
    "print(\"혼자 공부하는 프로그래밍\")\n",
    "print(len(\"혼자 공부하는 프로그래밍\"))\n",
    "print(\"혼자 공부하는 프로그래밍\"[:2])\n",
    "print(\"혼자 공부하는 프로그래밍\"[3:7])\n",
    "print(\"혼자 공부하는 프로그래밍\"[8:])"
   ]
  },
  {
   "cell_type": "markdown",
   "metadata": {},
   "source": [
    "### 확인문제 5"
   ]
  },
  {
   "cell_type": "code",
   "execution_count": null,
   "metadata": {},
   "outputs": [],
   "source": [
    "print(\"C Major Scale\")\n",
    "print(\"-\" * len(\"C Major Scale\"))\n",
    "print(\n",
    "    \"ABCDEFG\"[2]\n",
    "    + \"ABCDEFG\"[3]\n",
    "    + \"ABCDEFG\"[4]\n",
    "    + \"ABCDEFG\"[5]\n",
    "    + \"ABCDEFG\"[6]\n",
    "    + \"ABCDEFG\"[0]\n",
    "    + \"ABCDEFG\"[1]\n",
    ")"
   ]
  }
 ],
 "metadata": {
  "interpreter": {
   "hash": "da079680f061b1b71279786d92ed74b3ca3fcb31d80397c0ef19f5994c1c6403"
  },
  "kernelspec": {
   "display_name": "Python 3.8.9 64-bit ('.venv': venv)",
   "name": "python3"
  },
  "language_info": {
   "codemirror_mode": {
    "name": "ipython",
    "version": 3
   },
   "file_extension": ".py",
   "mimetype": "text/x-python",
   "name": "python",
   "nbconvert_exporter": "python",
   "pygments_lexer": "ipython3",
   "version": "3.8.9"
  },
  "orig_nbformat": 4
 },
 "nbformat": 4,
 "nbformat_minor": 2
}
