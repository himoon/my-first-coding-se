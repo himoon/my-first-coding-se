{
 "cells": [
  {
   "cell_type": "markdown",
   "metadata": {},
   "source": [
    "# 혼자 공부하는 첫 프로그래밍 with 파이썬(개정판) 예제코드 - Chapter 04-1 효율적인 데이터관리 1: 리스트"
   ]
  },
  {
   "cell_type": "markdown",
   "metadata": {},
   "source": [
    "### data01.py"
   ]
  },
  {
   "cell_type": "code",
   "execution_count": null,
   "metadata": {},
   "outputs": [],
   "source": [
    "yo_price = 1800\n",
    "yo_qty = 4\n",
    "milk_price = 1500\n",
    "milk_qty = 2\n",
    "\n",
    "yo_sales = yo_price * yo_qty\n",
    "milk_sales = milk_price * milk_qty\n",
    "\n",
    "total_sales = yo_sales + milk_sales\n",
    "total_qty = yo_qty + milk_qty\n",
    "\n",
    "print(\"드링킹 요구르트 매출액 : \" + str(yo_sales))\n",
    "print(\"딸기 우유 매출액 : \" + str(milk_sales))\n",
    "print(\"-\" * 20)\n",
    "print(\"총매출액 : \" + str(total_sales))\n",
    "print(\"총판매량 : \" + str(total_qty))"
   ]
  },
  {
   "cell_type": "markdown",
   "metadata": {},
   "source": [
    "### data02.py"
   ]
  },
  {
   "cell_type": "code",
   "execution_count": null,
   "metadata": {},
   "outputs": [],
   "source": [
    "yo_price = 1800\n",
    "yo_qty = 4\n",
    "milk_price = 1500\n",
    "milk_qty = 2\n",
    "hr_price = 1000\n",
    "hr_qty = 3\n",
    "\n",
    "yo_sales = yo_price * yo_qty\n",
    "milk_sales = milk_price * milk_qty\n",
    "hr_sales = hr_price * hr_qty\n",
    "\n",
    "total_sales = yo_sales + milk_sales + hr_sales\n",
    "total_qty = yo_qty + milk_qty + hr_qty\n",
    "\n",
    "print(\"드링킹 요구르트 매출액 : \" + str(yo_sales))\n",
    "print(\"딸기 우유 매출액 : \" + str(milk_sales))\n",
    "print(\"홈런공 매출액 : \" + str(hr_sales))\n",
    "print(\"-\" * 20)\n",
    "print(\"총매출액 : \" + str(total_sales))\n",
    "print(\"총판매량 : \" + str(total_qty))"
   ]
  },
  {
   "cell_type": "markdown",
   "metadata": {},
   "source": [
    "### 레벨업 /levelup/levup_04_01_01.py"
   ]
  },
  {
   "cell_type": "code",
   "execution_count": null,
   "metadata": {},
   "outputs": [],
   "source": [
    "odd = []\n",
    "even = []\n",
    "print(\"odd:\", odd, \", even:\", even)\n",
    "\n",
    "odd.append(1)\n",
    "even.append(2)\n",
    "print(\"odd:\", odd, \", even:\", even)\n",
    "\n",
    "odd.append(3)\n",
    "odd.append(5)\n",
    "even.append(4)\n",
    "print(\"odd:\", odd, \", even:\", even)"
   ]
  },
  {
   "cell_type": "markdown",
   "metadata": {},
   "source": [
    "### 레벨업 /levelup/levup_04_01_02.py"
   ]
  },
  {
   "cell_type": "code",
   "execution_count": null,
   "metadata": {},
   "outputs": [],
   "source": [
    "numbers = [3, 2, 5]\n",
    "print(numbers)\n",
    "\n",
    "popped = numbers.pop()\n",
    "print(numbers, \", 이번에 삭제된 데이터: \", popped)\n",
    "\n",
    "popped = numbers.pop()\n",
    "popped = numbers.pop()\n",
    "print(numbers, \", 이번에 삭제된 데이터: \", popped)"
   ]
  },
  {
   "cell_type": "markdown",
   "metadata": {},
   "source": [
    "### 레벨업 /levelup/levup_04_01_03.py"
   ]
  },
  {
   "cell_type": "code",
   "execution_count": null,
   "metadata": {},
   "outputs": [],
   "source": [
    "numbers = [3, 2, 5]\n",
    "asc = sorted(numbers)\n",
    "desc = sorted(numbers, reverse=True)\n",
    "print(\"numbers:\", numbers)\n",
    "print(\"asc:\", asc)\n",
    "print(\"desc:\", desc)"
   ]
  },
  {
   "cell_type": "markdown",
   "metadata": {},
   "source": [
    "### 레벨업 /levelup/levup_04_01_04.py"
   ]
  },
  {
   "cell_type": "code",
   "execution_count": null,
   "metadata": {},
   "outputs": [],
   "source": [
    "numbers = [3, 2, 5]\n",
    "print(\"numbers:\", numbers)\n",
    "\n",
    "rev_1 = reversed(numbers)\n",
    "print(\"rev_1:\", rev_1)\n",
    "\n",
    "rev_2 = list(rev_1)\n",
    "print(\"rev_2:\", rev_2)\n",
    "print(\"numbers:\", numbers)"
   ]
  },
  {
   "cell_type": "markdown",
   "metadata": {},
   "source": [
    "### 레벨업 /levelup/levup_04_01_05.py"
   ]
  },
  {
   "cell_type": "code",
   "execution_count": null,
   "metadata": {},
   "outputs": [],
   "source": [
    "numbers = [3, 2, 5]\n",
    "new_str = str(numbers)\n",
    "\n",
    "print(\"numbers:\", numbers)\n",
    "print(\"new_str:\", new_str)\n",
    "print(\"repr:\", repr(new_str))"
   ]
  },
  {
   "cell_type": "markdown",
   "metadata": {},
   "source": [
    "### 레벨업 /levelup/levup_04_01_06.py"
   ]
  },
  {
   "cell_type": "code",
   "execution_count": null,
   "metadata": {},
   "outputs": [],
   "source": [
    "list_1 = [\"3\", \"25\"]\n",
    "text_1 = \".\".join(list_1)\n",
    "print(list_1, \"->\", repr(text_1))\n",
    "\n",
    "list_2 = [\"2024\", \"03\", \"25\"]\n",
    "text_2 = \"-\".join(list_2)\n",
    "print(list_2, \"->\", repr(text_2))"
   ]
  },
  {
   "cell_type": "markdown",
   "metadata": {},
   "source": [
    "### 레벨업 /levelup/levup_04_01_07.py"
   ]
  },
  {
   "cell_type": "code",
   "execution_count": null,
   "metadata": {},
   "outputs": [],
   "source": [
    "text_1 = \"2024-03-25\"\n",
    "list_1 = text_1.split(\"-\")\n",
    "print(repr(text_1), \"->\", list_1)\n",
    "\n",
    "text_2 = \"1,2,3\"\n",
    "list_2 = text_2.split(\",\")\n",
    "print(repr(text_2), \"->\", list_2)\n",
    "\n",
    "text_3 = \"Sun is shining.\"\n",
    "list_3 = text_3.split(\",\")\n",
    "print(repr(text_3), \"->\", list_3)"
   ]
  }
 ],
 "metadata": {
  "interpreter": {
   "hash": "da079680f061b1b71279786d92ed74b3ca3fcb31d80397c0ef19f5994c1c6403"
  },
  "kernelspec": {
   "display_name": "Python 3.8.9 64-bit ('.venv': venv)",
   "name": "python3"
  },
  "language_info": {
   "codemirror_mode": {
    "name": "ipython",
    "version": 3
   },
   "file_extension": ".py",
   "mimetype": "text/x-python",
   "name": "python",
   "nbconvert_exporter": "python",
   "pygments_lexer": "ipython3",
   "version": "3.8.9"
  },
  "orig_nbformat": 4
 },
 "nbformat": 4,
 "nbformat_minor": 2
}
