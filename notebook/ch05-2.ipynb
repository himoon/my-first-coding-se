{
 "cells": [
  {
   "cell_type": "markdown",
   "metadata": {},
   "source": [
    "# 혼자 공부하는 첫 프로그래밍 with 파이썬(개정판) 예제코드 - Chapter 05-2 데이터 세트와 for 반복"
   ]
  },
  {
   "cell_type": "markdown",
   "metadata": {},
   "source": [
    "### for-str01.py"
   ]
  },
  {
   "cell_type": "code",
   "execution_count": null,
   "metadata": {},
   "outputs": [],
   "source": [
    "string = \"혼공족\"\n",
    "for char in string:\n",
    "    print(char)"
   ]
  },
  {
   "cell_type": "markdown",
   "metadata": {},
   "source": [
    "### for-list01.py"
   ]
  },
  {
   "cell_type": "code",
   "execution_count": null,
   "metadata": {},
   "outputs": [],
   "source": [
    "book_list = [\"혼자 공부하는 첫 프로그래밍\", \"혼자 공부하는 파이썬\"]\n",
    "for book in book_list:\n",
    "    print(book)"
   ]
  },
  {
   "cell_type": "markdown",
   "metadata": {},
   "source": [
    "### for-list02.py"
   ]
  },
  {
   "cell_type": "code",
   "execution_count": null,
   "metadata": {},
   "outputs": [],
   "source": [
    "name_list = [\"드링킹 요구르트\", \"딸기 우유\"]\n",
    "price_list = [1800, 1500]\n",
    "qty_list = [4, 2]\n",
    "\n",
    "# 곧 for 반복문으로 아래 코드를 반복 처리하겠습니다.\n",
    "name = name_list[0]\n",
    "sales = price_list[0] * qty_list[0]\n",
    "print(name + \" 매출액: \" + str(sales))\n",
    "\n",
    "name = name_list[1]\n",
    "sales = price_list[1] * qty_list[1]\n",
    "print(name + \" 매출액: \" + str(sales))"
   ]
  },
  {
   "cell_type": "markdown",
   "metadata": {},
   "source": [
    "### for-list03.py"
   ]
  },
  {
   "cell_type": "code",
   "execution_count": null,
   "metadata": {},
   "outputs": [],
   "source": [
    "name_list = [\"드링킹 요구르트\", \"딸기 우유\"]\n",
    "price_list = [1800, 1500]\n",
    "qty_list = [4, 2]\n",
    "\n",
    "for i in [0, 1]:\n",
    "    name = name_list[i]\n",
    "    sales = price_list[i] * qty_list[i]\n",
    "    print(name + \" 매출액: \" + str(sales))"
   ]
  },
  {
   "cell_type": "markdown",
   "metadata": {},
   "source": [
    "### for-list04.py"
   ]
  },
  {
   "cell_type": "code",
   "execution_count": null,
   "metadata": {},
   "outputs": [],
   "source": [
    "name_list = [\"드링킹 요구르트\", \"딸기 우유\", \"홈런공\"]\n",
    "price_list = [1800, 1500, 1000]\n",
    "qty_list = [4, 2, 3]\n",
    "\n",
    "for i in [0, 1, 2]:\n",
    "    name = name_list[i]\n",
    "    sales = price_list[i] * qty_list[i]\n",
    "    print(name + \" 매출액: \" + str(sales))"
   ]
  },
  {
   "cell_type": "markdown",
   "metadata": {},
   "source": [
    "### index01.py"
   ]
  },
  {
   "cell_type": "code",
   "execution_count": null,
   "metadata": {},
   "outputs": [],
   "source": [
    "name_list = [\"드링킹 요구르트\", \"딸기 우유\", \"홈런공\"]\n",
    "for i in [0, 1, 2]:\n",
    "    print(name_list[i])"
   ]
  },
  {
   "cell_type": "markdown",
   "metadata": {},
   "source": [
    "### index02.py"
   ]
  },
  {
   "cell_type": "code",
   "execution_count": null,
   "metadata": {},
   "outputs": [],
   "source": [
    "name_list = [\"드링킹 요구르트\", \"딸기 우유\", \"홈런공\"]\n",
    "for i in range(3):\n",
    "    print(name_list[i])"
   ]
  },
  {
   "cell_type": "markdown",
   "metadata": {},
   "source": [
    "### index03.py"
   ]
  },
  {
   "cell_type": "code",
   "execution_count": null,
   "metadata": {},
   "outputs": [],
   "source": [
    "book_list = [\"혼자 공부하는 첫 프로그래밍\", \"혼자 공부하는 파이썬\"]\n",
    "print(len(book_list))\n",
    "\n",
    "count_down = [10, 9, 8, 7, 6, 5, 4, 3, 2, 1]\n",
    "print(len(count_down))"
   ]
  },
  {
   "cell_type": "markdown",
   "metadata": {},
   "source": [
    "### index04.py"
   ]
  },
  {
   "cell_type": "code",
   "execution_count": null,
   "metadata": {},
   "outputs": [],
   "source": [
    "name_list = [\"드링킹 요구르트\", \"딸기 우유\", \"홈런공\"]\n",
    "for i in range(len(name_list)):\n",
    "    print(name_list[i])"
   ]
  },
  {
   "cell_type": "markdown",
   "metadata": {},
   "source": [
    "### index05.py"
   ]
  },
  {
   "cell_type": "code",
   "execution_count": null,
   "metadata": {},
   "outputs": [],
   "source": [
    "name_list = [\"드링킹 요구르트\", \"딸기 우유\"]\n",
    "price_list = [1800, 1500]\n",
    "qty_list = [4, 2]\n",
    "\n",
    "for i in range(len(name_list)):\n",
    "    name = name_list[i]\n",
    "    sales = price_list[i] * qty_list[i]\n",
    "    print(name + \" 매출액 : \" + str(sales))"
   ]
  },
  {
   "cell_type": "markdown",
   "metadata": {},
   "source": [
    "### index06.py"
   ]
  },
  {
   "cell_type": "code",
   "execution_count": null,
   "metadata": {},
   "outputs": [],
   "source": [
    "name_list = [\"드링킹 요구르트\", \"딸기 우유\", \"홈런공\"]\n",
    "price_list = [1800, 1500, 1000]\n",
    "qty_list = [4, 2, 3]\n",
    "\n",
    "for i in range(len(name_list)):\n",
    "    name = name_list[i]\n",
    "    sales = price_list[i] * qty_list[i]\n",
    "    print(name + \" 매출액 : \" + str(sales))"
   ]
  },
  {
   "cell_type": "markdown",
   "metadata": {},
   "source": [
    "### for-dict01.py"
   ]
  },
  {
   "cell_type": "code",
   "execution_count": null,
   "metadata": {},
   "outputs": [],
   "source": [
    "coord_list = [33.246225, 126.509279]\n",
    "print(coord_list[0])\n",
    "print(coord_list[1])\n",
    "\n",
    "coord_dict = {\"위도\" : 33.246225, \"경도\" : 126.509279}\n",
    "print(coord_dict[\"위도\"])\n",
    "print(coord_dict[\"경도\"])"
   ]
  },
  {
   "cell_type": "markdown",
   "metadata": {},
   "source": [
    "### for-dict02.py"
   ]
  },
  {
   "cell_type": "code",
   "execution_count": null,
   "metadata": {},
   "outputs": [],
   "source": [
    "coord_list = [33.246225, 126.509279]\n",
    "for coord in coord_list:\n",
    "    print(coord)"
   ]
  },
  {
   "cell_type": "markdown",
   "metadata": {},
   "source": [
    "### for-dict03.py"
   ]
  },
  {
   "cell_type": "code",
   "execution_count": null,
   "metadata": {},
   "outputs": [],
   "source": [
    "coord_dict = {\"위도\": 33.246225, \"경도\": 126.509279}\n",
    "for key in coord_dict:\n",
    "    print(key)"
   ]
  },
  {
   "cell_type": "markdown",
   "metadata": {},
   "source": [
    "### for-dict04.py"
   ]
  },
  {
   "cell_type": "code",
   "execution_count": null,
   "metadata": {},
   "outputs": [],
   "source": [
    "coord_dict = {\"위도\": 33.246225, \"경도\": 126.509279}\n",
    "for key in coord_dict:\n",
    "    print(coord_dict[key])"
   ]
  },
  {
   "cell_type": "markdown",
   "metadata": {},
   "source": [
    "### for-dict05.py"
   ]
  },
  {
   "cell_type": "code",
   "execution_count": null,
   "metadata": {},
   "outputs": [],
   "source": [
    "mos_qty = {\n",
    "    \"2020년6월\": [9, 5, 14, 8],\n",
    "    \"2020년7월\": [15, 6, 17, 15],\n",
    "    \"2020년8월\": [26, 18, 26, 10]\n",
    "}\n",
    "\n",
    "# 아래 코드를 for 반복문으로 처리할 예정입니다.\n",
    "month = \"2020년6월\"\n",
    "total = sum(mos_qty[month])\n",
    "print(month + \" 판매량 : \" + str(total))\n",
    "\n",
    "month = \"2020년7월\"\n",
    "total = sum(mos_qty[month])\n",
    "print(month + \" 판매량 : \" + str(total))\n",
    "\n",
    "month = \"2020년8월\"\n",
    "total = sum(mos_qty[month])\n",
    "print(month + \" 판매량 : \" + str(total))"
   ]
  },
  {
   "cell_type": "markdown",
   "metadata": {},
   "source": [
    "### for-dict06.py"
   ]
  },
  {
   "cell_type": "code",
   "execution_count": null,
   "metadata": {},
   "outputs": [],
   "source": [
    "mos_qty = {\n",
    "    \"2020년6월\": [9, 5, 14, 8],\n",
    "    \"2020년7월\": [15, 6, 17, 15],\n",
    "    \"2020년8월\": [26, 18, 26, 10]\n",
    "}\n",
    "\n",
    "for month in mos_qty:\n",
    "    total = sum(mos_qty[month])\n",
    "    print(month + \" 판매량 : \" + str(total))"
   ]
  },
  {
   "cell_type": "markdown",
   "metadata": {},
   "source": [
    "### 레벨업 /levelup/levup_05_02_01.py"
   ]
  },
  {
   "cell_type": "code",
   "execution_count": null,
   "metadata": {},
   "outputs": [],
   "source": [
    "before = [\"A\", \"B\", \"C\"]\n",
    "print(\"변경 전:\", before)\n",
    "\n",
    "after = []\n",
    "after.append(before[2])\n",
    "after.append(before[1])\n",
    "after.append(before[0])\n",
    "print(\"변경 후:\", after)"
   ]
  },
  {
   "cell_type": "markdown",
   "metadata": {},
   "source": [
    "### 레벨업 /levelup/levup_05_02_02.py"
   ]
  },
  {
   "cell_type": "code",
   "execution_count": null,
   "metadata": {},
   "outputs": [],
   "source": [
    "before = [\"A\", \"B\", \"C\"]\n",
    "print(\"변경 전:\", before)\n",
    "\n",
    "after = []\n",
    "length = len(before)\n",
    "for n in range(length):\n",
    "    idx = length - n - 1\n",
    "    after.append(before[idx])\n",
    "print(\"변경 후:\", after)"
   ]
  },
  {
   "cell_type": "markdown",
   "metadata": {},
   "source": [
    "### 레벨업 /levelup/levup_05_02_03.py"
   ]
  },
  {
   "cell_type": "code",
   "execution_count": null,
   "metadata": {},
   "outputs": [],
   "source": [
    "dict_before = {\n",
    "    \"일요일\": \"0\",\n",
    "    \"월요일\": \"1\",\n",
    "    \"화요일\": \"2\",\n",
    "    \"수요일\": \"3\",\n",
    "    \"목요일\": \"4\",\n",
    "    \"금요일\": \"5\",\n",
    "    \"토요일\": \"6\",\n",
    "}\n",
    "\n",
    "keys_before = list(dict_before.keys())\n",
    "values_before = list(dict_before.values())\n",
    "length = len(dict_before)\n",
    "print(\"keys_before:\", keys_before)\n",
    "print(\"values_before:\", values_before)\n",
    "\n",
    "dict_after = {}\n",
    "for n in range(length):\n",
    "    dict_after[values_before[n]] = keys_before[n]\n",
    "print(dict_after)"
   ]
  },
  {
   "cell_type": "markdown",
   "metadata": {},
   "source": [
    "### 확인문제 1"
   ]
  },
  {
   "cell_type": "code",
   "execution_count": null,
   "metadata": {},
   "outputs": [],
   "source": [
    "coffee = \"플랫화이트\"\n",
    "for x in coffee:\n",
    "    print(x)"
   ]
  },
  {
   "cell_type": "markdown",
   "metadata": {},
   "source": [
    "### 확인문제 2"
   ]
  },
  {
   "cell_type": "code",
   "execution_count": null,
   "metadata": {},
   "outputs": [],
   "source": [
    "count = [1, 2, 3, 4, 5, 6, 7, 8, 9, 10]\n",
    "for x in count:\n",
    "    if x % 2 == 0:\n",
    "        print(str(x) + \"!\")"
   ]
  },
  {
   "cell_type": "markdown",
   "metadata": {},
   "source": [
    "### 확인문제 3"
   ]
  },
  {
   "cell_type": "code",
   "execution_count": null,
   "metadata": {},
   "outputs": [],
   "source": [
    "five = range(5)\n",
    "for x in five:\n",
    "    print((x + 1) * 3)"
   ]
  },
  {
   "cell_type": "markdown",
   "metadata": {},
   "source": [
    "### 확인문제 4"
   ]
  },
  {
   "cell_type": "code",
   "execution_count": null,
   "metadata": {},
   "outputs": [],
   "source": [
    "order = [\"아메리카노\", \"플랫 화이트\", \"화이트 초콜릿 모카\"]\n",
    "price = [3100, 4100, 4600]\n",
    "for x in range(3):\n",
    "    print(order[x] + \" : \" + str(price[x]))"
   ]
  },
  {
   "cell_type": "markdown",
   "metadata": {},
   "source": [
    "### 확인문제 5"
   ]
  },
  {
   "cell_type": "code",
   "execution_count": null,
   "metadata": {},
   "outputs": [],
   "source": [
    "scores = [990, 120]\n",
    "print(scores[0])\n",
    "print(scores[1])\n",
    "\n",
    "scores = {\"TOEIC\": 990, \"TOEFL iBT\": 120}\n",
    "print(scores[\"TOEIC\"])\n",
    "print(scores[\"TOEFL iBT\"])"
   ]
  },
  {
   "cell_type": "markdown",
   "metadata": {},
   "source": [
    "### 확인문제 6"
   ]
  },
  {
   "cell_type": "code",
   "execution_count": null,
   "metadata": {},
   "outputs": [],
   "source": [
    "order = [\"아메리카노\", \"플랫 화이트\", \"화이트 초콜릿 모카\"]\n",
    "price = {\n",
    "    \"아메리카노\": 3100,\n",
    "    \"플랫 화이트\": 4100,\n",
    "    \"화이트 초콜릿 모카\": 4600\n",
    "}\n",
    "\n",
    "for x in order:\n",
    "    print(x + \" : \" + str(price[x]))"
   ]
  },
  {
   "cell_type": "markdown",
   "metadata": {},
   "source": [
    "### 확인문제 7"
   ]
  },
  {
   "cell_type": "code",
   "execution_count": null,
   "metadata": {},
   "outputs": [],
   "source": [
    "numbers = [[1, 2, 3], [4, 5, 6]]\n",
    "\n",
    "for row in numbers:\n",
    "    total = 0\n",
    "    for x in row:\n",
    "        total = total + x\n",
    "    print(total)"
   ]
  },
  {
   "cell_type": "markdown",
   "metadata": {},
   "source": [
    "### 확인문제 8"
   ]
  },
  {
   "cell_type": "code",
   "execution_count": null,
   "metadata": {},
   "outputs": [],
   "source": [
    "menu = {\n",
    "    \"오늘의 커피\": 2800,\n",
    "    \"아메리카노\": 3100,\n",
    "    \"카푸치노\": 3600,\n",
    "    \"화이트 초콜릿 모카\": 4600,\n",
    "    \"플랫 화이트\": 4100,\n",
    "}\n",
    "\n",
    "my_order = {\n",
    "    \"플랫 화이트\": 2,\n",
    "    \"화이트 초콜릿 모카\": 1,\n",
    "}\n",
    "\n",
    "for x in my_order:\n",
    "    price = menu[x]\n",
    "    qty = my_order[x]\n",
    "    total = price * qty\n",
    "    print(x + \" \" + str(qty) + \" 잔, 합계 : \" + str(total))"
   ]
  }
 ],
 "metadata": {
  "interpreter": {
   "hash": "da079680f061b1b71279786d92ed74b3ca3fcb31d80397c0ef19f5994c1c6403"
  },
  "kernelspec": {
   "display_name": "Python 3.8.9 64-bit ('.venv': venv)",
   "name": "python3"
  },
  "language_info": {
   "codemirror_mode": {
    "name": "ipython",
    "version": 3
   },
   "file_extension": ".py",
   "mimetype": "text/x-python",
   "name": "python",
   "nbconvert_exporter": "python",
   "pygments_lexer": "ipython3",
   "version": "3.8.9"
  },
  "orig_nbformat": 4
 },
 "nbformat": 4,
 "nbformat_minor": 2
}
