{
 "cells": [
  {
   "cell_type": "markdown",
   "metadata": {},
   "source": [
    "# 혼자 공부하는 첫 프로그래밍 with 파이썬(개정판) 예제코드 - Chapter 04-2 효율적인 데이터관리 2: 딕셔너리"
   ]
  },
  {
   "cell_type": "markdown",
   "metadata": {},
   "source": [
    "### data03.py"
   ]
  },
  {
   "cell_type": "code",
   "execution_count": null,
   "metadata": {},
   "outputs": [],
   "source": [
    "yo_qty_1 = [15, 16, 20, 29]\n",
    "yo_qty_2 = [8, 11, 25, 21]\n",
    "yo_qty_3 = [17, 9, 17, 24]\n",
    "\n",
    "print(\"드링킹 요구르트 1월 판매량 합계 : \" + str(sum(yo_qty_1)))\n",
    "print(\"드링킹 요구르트 2월 판매량 합계 : \" + str(sum(yo_qty_2)))\n",
    "print(\"드링킹 요구르트 3월 판매량 합계 : \" + str(sum(yo_qty_3)))"
   ]
  },
  {
   "cell_type": "markdown",
   "metadata": {},
   "source": [
    "### data04.py"
   ]
  },
  {
   "cell_type": "code",
   "execution_count": null,
   "metadata": {},
   "outputs": [],
   "source": [
    "yo_qty_1 = [15, 16, 20, 29]\n",
    "yo_qty_2 = [8, 11, 25, 21]\n",
    "yo_qty_3 = [17, 9, 17, 24]\n",
    "yo_qty_4 = [19, 29, 29, 4]\n",
    "yo_qty_5 = [5, 20, 18, 12]\n",
    "yo_qty_6 = [21, 7, 27, 14]\n",
    "\n",
    "print(\"드링킹 요구르트 1월 판매량 합계 : \" + str(sum(yo_qty_1)))\n",
    "print(\"드링킹 요구르트 2월 판매량 합계 : \" + str(sum(yo_qty_2)))\n",
    "print(\"드링킹 요구르트 3월 판매량 합계 : \" + str(sum(yo_qty_3)))\n",
    "print(\"드링킹 요구르트 4월 판매량 합계 : \" + str(sum(yo_qty_4)))\n",
    "print(\"드링킹 요구르트 5월 판매량 합계 : \" + str(sum(yo_qty_5)))\n",
    "print(\"드링킹 요구르트 6월 판매량 합계 : \" + str(sum(yo_qty_6)))"
   ]
  },
  {
   "cell_type": "markdown",
   "metadata": {},
   "source": [
    "### 레벨업 /levelup/levup_04_02_01.py"
   ]
  },
  {
   "cell_type": "code",
   "execution_count": null,
   "metadata": {},
   "outputs": [],
   "source": [
    "numbers = {\"odd\": [1, 3, 5]}\n",
    "numbers[\"even\"] = [2, 4]\n",
    "print(numbers)\n",
    "\n",
    "numbers[\"even\"] = [2, 4, 6]\n",
    "print(numbers)"
   ]
  },
  {
   "cell_type": "markdown",
   "metadata": {},
   "source": [
    "### 레벨업 /levelup/levup_04_02_02.py"
   ]
  },
  {
   "cell_type": "code",
   "execution_count": null,
   "metadata": {},
   "outputs": [],
   "source": [
    "months = {\"1\": \"Jan\", \"2\": \"Feb\", \"3\": \"Mar\"}\n",
    "print(months)\n",
    "\n",
    "popped = months.pop(\"3\")\n",
    "print(months)\n",
    "print(popped)"
   ]
  },
  {
   "cell_type": "markdown",
   "metadata": {},
   "source": [
    "### 레벨업 /levelup/levup_04_02_03.py"
   ]
  },
  {
   "cell_type": "code",
   "execution_count": null,
   "metadata": {},
   "outputs": [],
   "source": [
    "numbers = {\"one\": 1, \"two\": 2, \"three\": 3}\n",
    "keys = numbers.keys()\n",
    "print(keys)\n",
    "\n",
    "keys_list = list(keys)\n",
    "print(keys_list)"
   ]
  },
  {
   "cell_type": "markdown",
   "metadata": {},
   "source": [
    "### 레벨업 /levelup/levup_04_02_04.py"
   ]
  },
  {
   "cell_type": "code",
   "execution_count": null,
   "metadata": {},
   "outputs": [],
   "source": [
    "numbers = {\"one\": 1, \"two\": 2, \"three\": 3}\n",
    "values = numbers.values()\n",
    "print(values)\n",
    "\n",
    "values_list = list(values)\n",
    "print(values_list)"
   ]
  }
 ],
 "metadata": {
  "interpreter": {
   "hash": "da079680f061b1b71279786d92ed74b3ca3fcb31d80397c0ef19f5994c1c6403"
  },
  "kernelspec": {
   "display_name": "Python 3.8.9 64-bit ('.venv': venv)",
   "name": "python3"
  },
  "language_info": {
   "codemirror_mode": {
    "name": "ipython",
    "version": 3
   },
   "file_extension": ".py",
   "mimetype": "text/x-python",
   "name": "python",
   "nbconvert_exporter": "python",
   "pygments_lexer": "ipython3",
   "version": "3.8.9"
  },
  "orig_nbformat": 4
 },
 "nbformat": 4,
 "nbformat_minor": 2
}
